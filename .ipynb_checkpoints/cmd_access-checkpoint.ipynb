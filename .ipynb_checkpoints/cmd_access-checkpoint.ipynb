{
 "cells": [
  {
   "cell_type": "code",
   "execution_count": 1,
   "metadata": {
    "collapsed": false
   },
   "outputs": [],
   "source": [
    "import subprocess32 as subprocess\n",
    "import threading\n",
    "import os\n",
    "import time\n"
   ]
  },
  {
   "cell_type": "code",
   "execution_count": 24,
   "metadata": {
    "collapsed": true
   },
   "outputs": [],
   "source": [
    "\n",
    "import logging\n",
    "logger = logging.getLogger()\n",
    "os.chdir(r'C:\\Users\\vbask\\Documents\\Darts_IP\\Darts_IP\\Factories\\German_Factory_Code\\germanFactory')\n",
    "fhandler = logging.FileHandler(filename='mylog.log', mode='a')\n",
    "formatter = logging.Formatter('%(asctime)s - %(message)s')\n",
    "fhandler.setFormatter(formatter)\n",
    "logger.addHandler(fhandler)\n",
    "logger.setLevel(logging.DEBUG)\n",
    "\n",
    "logging.info('Logging starts for Command line Access 1 files')\n",
    "\n",
    "\n"
   ]
  },
  {
   "cell_type": "code",
   "execution_count": 11,
   "metadata": {
    "collapsed": false
   },
   "outputs": [],
   "source": [
    "def run_command_with_timeout(cmd):\n",
    "    timeout_sec=200\n",
    "    proc = subprocess.Popen(cmd)\n",
    "    proc_thread = threading.Thread(target=proc.communicate)\n",
    "    proc_thread.start()\n",
    "    proc_thread.join(timeout_sec)\n",
    "    if proc_thread.is_alive():\n",
    "        logging.info(\"Killing tasks\")\n",
    "        subprocess.call([\"taskkill\",\"/f\",\"/t\",\"/im\",\"FineReader.exe\"])\n",
    "        subprocess.call([\"taskkill\",\"/f\",\"/t\",\"/im\",\"gswin64.exe\"])\n",
    "    return 0           "
   ]
  },
  {
   "cell_type": "code",
   "execution_count": 8,
   "metadata": {
    "collapsed": false
   },
   "outputs": [],
   "source": [
    "prior_downloaded_path=r\"C:\\Users\\vbask\\Documents\\Darts_IP\\Darts_IP\\Factories\\German_Factory\\1_Poor_downloaded\\Batch_prior\"\n",
    "prior_downloaded_file_names=[f for f in os.listdir(prior_downloaded_path) if os.path.splitext(f)[1]==\".pdf\"]\n",
    "prior_img_layer_path=r\"C:\\Users\\vbask\\Documents\\Darts_IP\\Darts_IP\\Factories\\German_Factory\\2_a_Poor_img_layer\\Batch_prior\"\n",
    "prior_gen_ocred_path=r\"C:\\Users\\vbask\\Documents\\Darts_IP\\Darts_IP\\Factories\\German_Factory\\2_b_Poor_OCRed\\Batch_prior\""
   ]
  },
  {
   "cell_type": "code",
   "execution_count": 9,
   "metadata": {
    "collapsed": false
   },
   "outputs": [],
   "source": [
    "logging.info(\"Deleteing all the file in the priority Image layer only PDFs path\")\n",
    "for root, dirs, files in os.walk(prior_img_layer_path):\n",
    "    for f in files:\n",
    "        os.unlink(os.path.join(root, f))\n",
    "        \n",
    "logging.info(\"Deleteing all the file in the generic OCRed PDFs path\")\n",
    "for root, dirs, files in os.walk(prior_gen_ocred_path):\n",
    "    for f in files:\n",
    "        os.unlink(os.path.join(root, f))\n",
    "        "
   ]
  },
  {
   "cell_type": "code",
   "execution_count": 18,
   "metadata": {
    "collapsed": false
   },
   "outputs": [],
   "source": [
    "task=[]\n",
    "for index in range(len(prior_downloaded_file_names)):\n",
    "    task.append([\"C:\\\\Program Files\\\\gs\\\\gs9.19\\\\bin\\\\gswin64\",\"-o\",os.path.join(prior_img_layer_path,prior_downloaded_file_names[index]),\"-sDEVICE=pdfwrite\",\"-dFILTERTEXT\",os.path.join(prior_downloaded_path,prior_downloaded_file_names[index])])\n",
    "\n",
    "from multiprocessing.dummy import Pool as ThreadPool \n",
    "s_time= time.time()\n",
    "pool = ThreadPool(4) \n",
    "results = pool.map(run_command_with_timeout, task)\n",
    "pool.close() \n",
    "pool.join() \n",
    "e_time=time.time()\n"
   ]
  },
  {
   "cell_type": "code",
   "execution_count": 22,
   "metadata": {
    "collapsed": true
   },
   "outputs": [],
   "source": [
    "logging.info(\"The GS for \"+ str(len(prior_downloaded_file_names))+\" files ended in \"+str((e_time-s_time)/60)+\"minutes\")\n",
    "prior_img_layer_file_names=[f for f in os.listdir(prior_img_layer_path) if os.path.splitext(f)[1]==\".pdf\"]"
   ]
  },
  {
   "cell_type": "code",
   "execution_count": 21,
   "metadata": {
    "collapsed": false
   },
   "outputs": [
    {
     "name": "stdout",
     "output_type": "stream",
     "text": [
      " 0 1 2 3 4 5\n"
     ]
    }
   ],
   "source": [
    "for index in range(len(prior_img_layer_file_names)):\n",
    "    print index,\n",
    "    logging.debug(\"Abbyy generic OCRing \"+prior_img_layer_file_names[index] )\n",
    "    run_command_with_timeout([\"C:\\\\Users\\\\vbask\\\\Documents\\\\ABBYY\\\\FineCmd.exe\",os.path.join(prior_img_layer_path,prior_img_layer_file_names[index]),\"/lang\",\"german\",\"chineseprc\",\"russian\",\"/out\",os.path.join(prior_gen_ocred_path,prior_img_layer_file_names[index]),\"/quit\"])\n",
    "    time.sleep(1)"
   ]
  },
  {
   "cell_type": "code",
   "execution_count": 23,
   "metadata": {
    "collapsed": true
   },
   "outputs": [],
   "source": [
    "logging.info(\"Generic OCRing finished\")"
   ]
  },
  {
   "cell_type": "code",
   "execution_count": null,
   "metadata": {
    "collapsed": true
   },
   "outputs": [],
   "source": []
  }
 ],
 "metadata": {
  "anaconda-cloud": {},
  "kernelspec": {
   "display_name": "Python [Root]",
   "language": "python",
   "name": "Python [Root]"
  },
  "language_info": {
   "codemirror_mode": {
    "name": "ipython",
    "version": 2
   },
   "file_extension": ".py",
   "mimetype": "text/x-python",
   "name": "python",
   "nbconvert_exporter": "python",
   "pygments_lexer": "ipython2",
   "version": "2.7.12"
  }
 },
 "nbformat": 4,
 "nbformat_minor": 0
}
