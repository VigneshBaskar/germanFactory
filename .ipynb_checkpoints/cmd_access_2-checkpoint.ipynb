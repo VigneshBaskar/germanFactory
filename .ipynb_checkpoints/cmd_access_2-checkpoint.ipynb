{
 "cells": [
  {
   "cell_type": "code",
   "execution_count": 2,
   "metadata": {
    "collapsed": true
   },
   "outputs": [],
   "source": [
    "import subprocess32 as subprocess\n",
    "import threading\n",
    "import os"
   ]
  },
  {
   "cell_type": "code",
   "execution_count": 8,
   "metadata": {
    "collapsed": false
   },
   "outputs": [],
   "source": [
    "\n",
    "import logging\n",
    "logger = logging.getLogger()\n",
    "os.chdir(r'C:\\Users\\vbask\\Documents\\Darts_IP\\Darts_IP\\Factories\\German_Factory_Code\\germanFactory')\n",
    "fhandler = logging.FileHandler(filename='mylog.log', mode='a')\n",
    "formatter = logging.Formatter('%(asctime)s - %(message)s')\n",
    "fhandler.setFormatter(formatter)\n",
    "logger.addHandler(fhandler)\n",
    "logger.setLevel(logging.DEBUG)\n",
    "\n",
    "logging.info('Logging starts for Re-OCRing')\n",
    "\n",
    "\n"
   ]
  },
  {
   "cell_type": "code",
   "execution_count": 4,
   "metadata": {
    "collapsed": true
   },
   "outputs": [],
   "source": [
    "def run_command_with_timeout(cmd):\n",
    "    timeout_sec=200\n",
    "    proc = subprocess.Popen(cmd)\n",
    "    proc_thread = threading.Thread(target=proc.communicate)\n",
    "    proc_thread.start()\n",
    "    proc_thread.join(timeout_sec)\n",
    "    if proc_thread.is_alive():\n",
    "        subprocess.call([\"taskkill\",\"/f\",\"/t\",\"/im\",\"FineReader.exe\"])\n",
    "        subprocess.call([\"taskkill\",\"/f\",\"/t\",\"/im\",\"gswin64.exe\"])\n",
    "    return 0           "
   ]
  },
  {
   "cell_type": "code",
   "execution_count": 5,
   "metadata": {
    "collapsed": false
   },
   "outputs": [],
   "source": [
    "ocr_languages=[\"en\",\"de\",\"fr\",\"es\",\"it\",\"ru\",\"nl\",\"pt\",\"sv\",\"tr\",\"th\",\"zh\",\"ja\",\"pl\",\"ko\"]\n",
    "combinations=[]\n",
    "for lang_1 in ocr_languages:\n",
    "    for lang_2 in ocr_languages:\n",
    "        if lang_1!=lang_2:\n",
    "            combinations.append(lang_1+\"_\"+lang_2)\n",
    "    ocr_languages=ocr_languages[1:]\n",
    "ocr_languages=[\"en\",\"de\",\"fr\",\"es\",\"it\",\"ru\",\"nl\",\"pt\",\"sv\",\"tr\",\"th\",\"zh\",\"ja\",\"pl\",\"ko\"]"
   ]
  },
  {
   "cell_type": "code",
   "execution_count": 6,
   "metadata": {
    "collapsed": false
   },
   "outputs": [],
   "source": [
    "re_ocr_in_path=r\"C:\\Users\\vbask\\Documents\\Darts_IP\\Darts_IP\\Factories\\4_a_Re_OCRing_input\"\n",
    "re_ocr_in_folder_names=os.listdir(re_ocr_in_path)\n",
    "re_ocr_out_path=r'C:\\Users\\vbask\\Documents\\Darts_IP\\Darts_IP\\Factories\\German_Factory\\4_b_Re_OCRed'"
   ]
  },
  {
   "cell_type": "code",
   "execution_count": 7,
   "metadata": {
    "collapsed": true
   },
   "outputs": [],
   "source": [
    "ocr_languages_full=[\"english\",\"german\",\"french\",\"spanish\",\"italian\",\"russian\",\"dutch\",\"portuguesestandard\",\"swedish\",\"turkish\",\"thai\",\"chineseprc\",\"japanese\",\"polish\",\"korean\"]"
   ]
  },
  {
   "cell_type": "code",
   "execution_count": 9,
   "metadata": {
    "collapsed": false
   },
   "outputs": [],
   "source": [
    "for re_ocr_in_folder_name in re_ocr_in_folder_names:\n",
    "    if len(re_ocr_in_folder_name)>2:\n",
    "        for re_ocr_fname in os.listdir(os.path.join(re_ocr_in_path,re_ocr_in_folder_name)):\n",
    "            logging.info(\"ReOCRing \"+re_ocr_fname)\n",
    "            run_command_with_timeout([\"C:\\\\Users\\\\vbask\\\\Documents\\\\ABBYY\\\\FineCmd.exe\",os.path.join(os.path.join(re_ocr_in_path,re_ocr_in_folder_name),re_ocr_fname),\"/lang\",ocr_languages_full[ocr_languages.index(re_ocr_in_folder_name[0:2])],ocr_languages_full[ocr_languages.index(re_ocr_in_folder_name[3:5])],\"/out\",os.path.join(re_ocr_out_path,re_ocr_fname),\"/quit\"])\n",
    "    if len(re_ocr_in_folder_name)==2:\n",
    "        for re_ocr_fname in os.listdir(os.path.join(re_ocr_in_path,re_ocr_in_folder_name)):\n",
    "            logging.info(\"ReOCRing \"+re_ocr_fname)\n",
    "            run_command_with_timeout([\"C:\\\\Users\\\\vbask\\\\Documents\\\\ABBYY\\\\FineCmd.exe\",os.path.join(os.path.join(re_ocr_in_path,re_ocr_in_folder_name),re_ocr_fname),\"/lang\",ocr_languages_full[ocr_languages.index(re_ocr_in_folder_name[0:2])],\"/out\",os.path.join(re_ocr_out_path,re_ocr_fname),\"/quit\"])            \n",
    "    "
   ]
  },
  {
   "cell_type": "code",
   "execution_count": 10,
   "metadata": {
    "collapsed": true
   },
   "outputs": [],
   "source": [
    "logging.info(\"Re-OCRing finished\")"
   ]
  }
 ],
 "metadata": {
  "anaconda-cloud": {},
  "kernelspec": {
   "display_name": "Python [Root]",
   "language": "python",
   "name": "Python [Root]"
  },
  "language_info": {
   "codemirror_mode": {
    "name": "ipython",
    "version": 2
   },
   "file_extension": ".py",
   "mimetype": "text/x-python",
   "name": "python",
   "nbconvert_exporter": "python",
   "pygments_lexer": "ipython2",
   "version": "2.7.12"
  }
 },
 "nbformat": 4,
 "nbformat_minor": 0
}
