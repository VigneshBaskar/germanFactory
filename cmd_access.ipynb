{
 "cells": [
  {
   "cell_type": "code",
   "execution_count": 1,
   "metadata": {
    "collapsed": false
   },
   "outputs": [],
   "source": [
    "import subprocess32 as subprocess\n",
    "import threading\n",
    "import os\n",
    "import time\n"
   ]
  },
  {
   "cell_type": "code",
   "execution_count": 2,
   "metadata": {
    "collapsed": true
   },
   "outputs": [],
   "source": [
    "import logging\n",
    "logger = logging.getLogger()\n",
    "fhandler = logging.FileHandler(filename='mylog.log', mode='a')\n",
    "formatter = logging.Formatter('%(asctime)s - %(message)s')\n",
    "fhandler.setFormatter(formatter)\n",
    "logger.addHandler(fhandler)\n",
    "logger.setLevel(logging.DEBUG)\n",
    "\n",
    "\n",
    "logging.info('Logging starts')\n",
    "\n"
   ]
  },
  {
   "cell_type": "code",
   "execution_count": 3,
   "metadata": {
    "collapsed": false
   },
   "outputs": [],
   "source": [
    "def run_command_with_timeout(cmd, timeout_sec):\n",
    "    proc = subprocess.Popen(cmd)\n",
    "    proc_thread = threading.Thread(target=proc.communicate)\n",
    "    proc_thread.start()\n",
    "    proc_thread.join(timeout_sec)\n",
    "    if proc_thread.is_alive():\n",
    "        logging.info(\"Killing tasks\")\n",
    "        subprocess.call([\"taskkill\",\"/f\",\"/t\",\"/im\",\"FineReader.exe\"])\n",
    "        subprocess.call([\"taskkill\",\"/f\",\"/t\",\"/im\",\"gswin64.exe\"])\n",
    "    return 0           "
   ]
  },
  {
   "cell_type": "code",
   "execution_count": 8,
   "metadata": {
    "collapsed": false
   },
   "outputs": [],
   "source": [
    "prior_downloaded_path=r\"C:\\Users\\vbask\\Documents\\Darts_IP\\Darts_IP\\Factories\\German_Factory\\1_Poor_downloaded\\Batch_prior\"\n",
    "prior_downloaded_file_names=[f for f in os.listdir(prior_downloaded_path) if os.path.splitext(f)[1]==\".pdf\"]\n",
    "prior_img_layer_path=r\"C:\\Users\\vbask\\Documents\\Darts_IP\\Darts_IP\\Factories\\German_Factory\\2_a_Poor_img_layer\\Batch_prior\"\n",
    "prior_gen_ocred_path=r\"C:\\Users\\vbask\\Documents\\Darts_IP\\Darts_IP\\Factories\\German_Factory\\2_b_Poor_OCRed\\Batch_prior\""
   ]
  },
  {
   "cell_type": "code",
   "execution_count": 12,
   "metadata": {
    "collapsed": false
   },
   "outputs": [],
   "source": [
    "logging.info(\"Deleteing all the file in the priority Image layer only PDFs path\")\n",
    "for root, dirs, files in os.walk(prior_img_layer_path):\n",
    "    for f in files:\n",
    "        os.unlink(os.path.join(root, f))\n",
    "        \n",
    "logging.info(\"Deleteing all the file in the generic OCRed PDFs path\")\n",
    "for root, dirs, files in os.walk(prior_gen_ocred_path):\n",
    "    for f in files:\n",
    "        os.unlink(os.path.join(root, f))\n",
    "        "
   ]
  },
  {
   "cell_type": "code",
   "execution_count": 14,
   "metadata": {
    "collapsed": false
   },
   "outputs": [],
   "source": [
    "for index in range(len(prior_downloaded_file_names)):\n",
    "        logging.info(\"Ghostscript running on \"+prior_downloaded_file_names[index])\n",
    "        run_command_with_timeout([\"C:\\\\Program Files\\\\gs\\\\gs9.19\\\\bin\\\\gswin64\",\"-o\",os.path.join(prior_img_layer_path,prior_downloaded_file_names[index]),\"-sDEVICE=pdfwrite\",\"-dFILTERTEXT\",os.path.join(prior_downloaded_path,prior_downloaded_file_names[index])],200)\n",
    "        time.sleep(1)"
   ]
  },
  {
   "cell_type": "code",
   "execution_count": 30,
   "metadata": {
    "collapsed": true
   },
   "outputs": [],
   "source": [
    "prior_img_layer_file_names=[f for f in os.listdir(prior_img_layer_path) if os.path.splitext(f)[1]==\".pdf\"]"
   ]
  },
  {
   "cell_type": "code",
   "execution_count": 33,
   "metadata": {
    "collapsed": false
   },
   "outputs": [
    {
     "name": "stdout",
     "output_type": "stream",
     "text": [
      " 0 1 2 3 4 5 6 7 8 9 10 11 12 13 14 15 16 17 18 19 20 21 22 23 24 25 26 27 28 29 30 31 32 33 34 35 36 37 38 39 40 41 42 43 44 45 46 47 48 49 50 51 52 53 54 55 56 57 58 59 60 61 62 63 64 65 66 67 68 69 70 71 72 73 74 75 76 77 78 79 80 81 82 83 84 85 86 87 88 89 90 91 92 93 94 95 96 97 98 99 100 101 102 103 104 105 106 107 108 109 110 111 112 113 114 115 116 117 118 119 120 121 122 123 124 125 126 127 128 129 130 131 132 133 134 135 136 137 138 139 140 141 142 143 144 145 146 147 148 149 150 151 152 153 154 155 156 157 158 159 160 161 162 163 164 165 166 167 168 169 170 171 172 173 174 175 176 177 178 179 180 181 182 183 184 185 186 187 188 189 190 191 192 193 194 195 196 197 198 199 200 201 202 203 204 205 206 207 208 209 210 211 212 213 214 215 216 217 218 219 220 221 222 223 224 225 226 227 228 229 230 231 232 233 234 235 236 237 238 239 240 241 242 243 244 245 246 247 248 249 250 251 252 253 254 255 256 257 258 259 260 261 262 263 264 265 266 267 268 269 270 271 272 273 274 275 276 277 278 279 280 281 282 283 284 285 286 287 288 289 290 291 292 293 294 295 296 297 298 299 300 301 302 303 304 305 306 307 308 309 310 311 312 313 314 315 316 317 318 319 320 321 322 323 324 325 326 327 328 329 330 331 332\n"
     ]
    }
   ],
   "source": [
    "for index in range(len(prior_img_layer_file_names)):\n",
    "    print index,\n",
    "    logging.info(\"Abbyy generic OCRing \"+prior_img_layer_file_names[index] )\n",
    "    run_command_with_timeout([\"C:\\\\Users\\\\vbask\\\\Documents\\\\ABBYY\\\\FineCmd.exe\",os.path.join(prior_img_layer_path,prior_img_layer_file_names[index]),\"/lang\",\"english\",\"chineseprc\",\"russian\",\"/out\",os.path.join(prior_gen_ocred_path,prior_img_layer_file_names[index]),\"/quit\"], 200)\n",
    "    time.sleep(1)"
   ]
  },
  {
   "cell_type": "code",
   "execution_count": null,
   "metadata": {
    "collapsed": true
   },
   "outputs": [],
   "source": []
  },
  {
   "cell_type": "code",
   "execution_count": null,
   "metadata": {
    "collapsed": true
   },
   "outputs": [],
   "source": []
  }
 ],
 "metadata": {
  "anaconda-cloud": {},
  "kernelspec": {
   "display_name": "Python [Root]",
   "language": "python",
   "name": "Python [Root]"
  },
  "language_info": {
   "codemirror_mode": {
    "name": "ipython",
    "version": 2
   },
   "file_extension": ".py",
   "mimetype": "text/x-python",
   "name": "python",
   "nbconvert_exporter": "python",
   "pygments_lexer": "ipython2",
   "version": "2.7.12"
  }
 },
 "nbformat": 4,
 "nbformat_minor": 0
}
